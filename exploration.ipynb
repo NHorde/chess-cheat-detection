{
 "cells": [
  {
   "cell_type": "code",
   "execution_count": 48,
   "metadata": {},
   "outputs": [
    {
     "data": {
      "text/plain": [
       "True"
      ]
     },
     "execution_count": 48,
     "metadata": {},
     "output_type": "execute_result"
    }
   ],
   "source": [
    "import requests\n",
    "import json\n",
    "import os\n",
    "\n",
    "import pandas as pd\n",
    "\n",
    "from dotenv import load_dotenv\n",
    "load_dotenv()"
   ]
  },
  {
   "cell_type": "markdown",
   "metadata": {},
   "source": [
    "**Request to Lichess API**"
   ]
  },
  {
   "cell_type": "code",
   "execution_count": 49,
   "metadata": {},
   "outputs": [],
   "source": [
    "url = \"https://www.lichess.org/api/games/user/NHorde\"\n",
    "\n",
    "headers = {\n",
    "            \"accept\": \"application/x-ndjson\"\n",
    "        }\n",
    "\n",
    "params = {\n",
    "    \"max\": 10,\n",
    "    \"opening\": \"true\"\n",
    "}\n",
    "\n",
    "LICHESS_API_TOKEN = os.getenv(\"LICHESS_API_TOKEN\")"
   ]
  },
  {
   "cell_type": "code",
   "execution_count": 50,
   "metadata": {},
   "outputs": [],
   "source": [
    "r = requests.get(url = url,\n",
    "                         params=params,\n",
    "                         headers=headers)\n",
    "\n",
    "r_text = r.content.decode(\"utf-8\")\n",
    "\n",
    "response = [json.loads(s) for s in r_text.split(\"\\n\")[:-1]]"
   ]
  },
  {
   "cell_type": "markdown",
   "metadata": {},
   "source": [
    "**Create a dataframe to look at the data**"
   ]
  },
  {
   "cell_type": "code",
   "execution_count": 40,
   "metadata": {},
   "outputs": [],
   "source": [
    "def parser(row):\n",
    "    return pd.json_normalize(response[row])"
   ]
  },
  {
   "cell_type": "code",
   "execution_count": 41,
   "metadata": {},
   "outputs": [],
   "source": [
    "# Initialize\n",
    "df = parser(row=0)"
   ]
  },
  {
   "cell_type": "code",
   "execution_count": 42,
   "metadata": {},
   "outputs": [],
   "source": [
    "for i in range(len(response)-1):\n",
    "    df = df.append(parser(row=i+1), ignore_index=False)"
   ]
  },
  {
   "cell_type": "code",
   "execution_count": 45,
   "metadata": {},
   "outputs": [
    {
     "data": {
      "text/html": [
       "<div>\n",
       "<style scoped>\n",
       "    .dataframe tbody tr th:only-of-type {\n",
       "        vertical-align: middle;\n",
       "    }\n",
       "\n",
       "    .dataframe tbody tr th {\n",
       "        vertical-align: top;\n",
       "    }\n",
       "\n",
       "    .dataframe thead th {\n",
       "        text-align: right;\n",
       "    }\n",
       "</style>\n",
       "<table border=\"1\" class=\"dataframe\">\n",
       "  <thead>\n",
       "    <tr style=\"text-align: right;\">\n",
       "      <th></th>\n",
       "      <th>id</th>\n",
       "      <th>rated</th>\n",
       "      <th>variant</th>\n",
       "      <th>speed</th>\n",
       "      <th>perf</th>\n",
       "      <th>createdAt</th>\n",
       "      <th>lastMoveAt</th>\n",
       "      <th>status</th>\n",
       "      <th>winner</th>\n",
       "      <th>moves</th>\n",
       "      <th>...</th>\n",
       "      <th>players.black.user.name</th>\n",
       "      <th>players.black.user.id</th>\n",
       "      <th>players.black.rating</th>\n",
       "      <th>players.black.ratingDiff</th>\n",
       "      <th>opening.eco</th>\n",
       "      <th>opening.name</th>\n",
       "      <th>opening.ply</th>\n",
       "      <th>clock.initial</th>\n",
       "      <th>clock.increment</th>\n",
       "      <th>clock.totalTime</th>\n",
       "    </tr>\n",
       "  </thead>\n",
       "  <tbody>\n",
       "    <tr>\n",
       "      <th>0</th>\n",
       "      <td>qzHQv4Gj</td>\n",
       "      <td>True</td>\n",
       "      <td>standard</td>\n",
       "      <td>blitz</td>\n",
       "      <td>blitz</td>\n",
       "      <td>1613057064125</td>\n",
       "      <td>1613057859379</td>\n",
       "      <td>resign</td>\n",
       "      <td>white</td>\n",
       "      <td>e4 e5 Nf3 d6 d4 Nf6 Nc3 Qe7 Bc4 Nfd7 O-O c6 dx...</td>\n",
       "      <td>...</td>\n",
       "      <td>CanardFou</td>\n",
       "      <td>canardfou</td>\n",
       "      <td>1622</td>\n",
       "      <td>-5</td>\n",
       "      <td>C41</td>\n",
       "      <td>Philidor Defense: Nimzowitsch Variation</td>\n",
       "      <td>6</td>\n",
       "      <td>300</td>\n",
       "      <td>3</td>\n",
       "      <td>420</td>\n",
       "    </tr>\n",
       "    <tr>\n",
       "      <th>0</th>\n",
       "      <td>dcwkmKVm</td>\n",
       "      <td>True</td>\n",
       "      <td>standard</td>\n",
       "      <td>blitz</td>\n",
       "      <td>blitz</td>\n",
       "      <td>1612988225880</td>\n",
       "      <td>1612988618870</td>\n",
       "      <td>mate</td>\n",
       "      <td>black</td>\n",
       "      <td>e4 c5 Nf3 Nc6 Bc4 e6 d3 d5 exd5 exd5 Bb3 Nf6 B...</td>\n",
       "      <td>...</td>\n",
       "      <td>NHorde</td>\n",
       "      <td>nhorde</td>\n",
       "      <td>1629</td>\n",
       "      <td>6</td>\n",
       "      <td>B30</td>\n",
       "      <td>Sicilian Defense: Old Sicilian</td>\n",
       "      <td>4</td>\n",
       "      <td>300</td>\n",
       "      <td>3</td>\n",
       "      <td>420</td>\n",
       "    </tr>\n",
       "  </tbody>\n",
       "</table>\n",
       "<p>2 rows × 24 columns</p>\n",
       "</div>"
      ],
      "text/plain": [
       "         id  rated   variant  speed   perf      createdAt     lastMoveAt  \\\n",
       "0  qzHQv4Gj   True  standard  blitz  blitz  1613057064125  1613057859379   \n",
       "0  dcwkmKVm   True  standard  blitz  blitz  1612988225880  1612988618870   \n",
       "\n",
       "   status winner                                              moves  ...  \\\n",
       "0  resign  white  e4 e5 Nf3 d6 d4 Nf6 Nc3 Qe7 Bc4 Nfd7 O-O c6 dx...  ...   \n",
       "0    mate  black  e4 c5 Nf3 Nc6 Bc4 e6 d3 d5 exd5 exd5 Bb3 Nf6 B...  ...   \n",
       "\n",
       "  players.black.user.name players.black.user.id  players.black.rating  \\\n",
       "0               CanardFou             canardfou                  1622   \n",
       "0                  NHorde                nhorde                  1629   \n",
       "\n",
       "   players.black.ratingDiff opening.eco  \\\n",
       "0                        -5         C41   \n",
       "0                         6         B30   \n",
       "\n",
       "                              opening.name  opening.ply  clock.initial  \\\n",
       "0  Philidor Defense: Nimzowitsch Variation            6            300   \n",
       "0           Sicilian Defense: Old Sicilian            4            300   \n",
       "\n",
       "  clock.increment clock.totalTime  \n",
       "0               3             420  \n",
       "0               3             420  \n",
       "\n",
       "[2 rows x 24 columns]"
      ]
     },
     "execution_count": 45,
     "metadata": {},
     "output_type": "execute_result"
    }
   ],
   "source": [
    "df.head(2)"
   ]
  },
  {
   "cell_type": "code",
   "execution_count": 47,
   "metadata": {},
   "outputs": [],
   "source": [
    "df.to_csv(\"sample_game.csv\")"
   ]
  }
 ],
 "metadata": {
  "kernelspec": {
   "display_name": "Python 3",
   "language": "python",
   "name": "python3"
  },
  "language_info": {
   "codemirror_mode": {
    "name": "ipython",
    "version": 3
   },
   "file_extension": ".py",
   "mimetype": "text/x-python",
   "name": "python",
   "nbconvert_exporter": "python",
   "pygments_lexer": "ipython3",
   "version": "3.8.3"
  }
 },
 "nbformat": 4,
 "nbformat_minor": 4
}
